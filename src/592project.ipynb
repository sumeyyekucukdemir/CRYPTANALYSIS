{
 "cells": [
  {
   "cell_type": "code",
   "execution_count": 1,
   "metadata": {},
   "outputs": [],
   "source": [
    "import numpy as np"
   ]
  },
  {
   "cell_type": "code",
   "execution_count": 253,
   "metadata": {},
   "outputs": [],
   "source": [
    "import random"
   ]
  },
  {
   "cell_type": "code",
   "execution_count": 377,
   "metadata": {},
   "outputs": [],
   "source": [
    "S_box={0:0xE, 1:0x4, 2:0xD, 3:0x1, 4:0x2, 5:0xF, 6:0xB, 7:0x8, 8:0x3, 9:0xA, 0xA:0x6, 0xB:0xC, 0xC:0x5,\n",
    "      0xD:0x9, 0xE:0x0, 0xF:0x7}\n",
    "S_box_inverse = {value : key for (key, value) in S_box.items()}\n",
    "P_box={1:1, 2:5, 3:9, 4:13, 5:2, 6:6, 7:10, 8:14, 9:3, 10:7, 11:11, 12:15, 13:4, 14:8, 15:12, 16:16}\n",
    "P_box_inverse = {value : key for (key, value) in P_box.items()}"
   ]
  },
  {
   "cell_type": "code",
   "execution_count": 378,
   "metadata": {},
   "outputs": [],
   "source": [
    "def s_box(x):\n",
    "    s_box_inputs=[]\n",
    "    for i in range(4):\n",
    "        s_box_inputs.append((x>>4*(3-i)) & 15)\n",
    "    s_box_output=0\n",
    "    for s_box_input in s_box_inputs:\n",
    "        s_box_output= s_box_output<<4\n",
    "        s_box_output= s_box_output ^ S_box[s_box_input]\n",
    "    return  s_box_output\n",
    "def inverse_s_box(x):\n",
    "    inv_s_box_inputs=[]\n",
    "    for i in range(4):\n",
    "        inv_s_box_inputs.append((x>>4*(3-i)) & 15)\n",
    "    inv_s_box_output=0\n",
    "    for inv_s_box_input in inv_s_box_inputs:\n",
    "        inv_s_box_output= inv_s_box_output<<4\n",
    "        inv_s_box_output= inv_s_box_output ^ S_box_inverse[inv_s_box_input]\n",
    "    return  inv_s_box_output\n",
    "\n",
    "def p_box(x):\n",
    "    p_box_inputs=[]\n",
    "    p_box_outputs=[]\n",
    "    for i in range(16):\n",
    "        p_box_inputs.append((x>>(15-i)) & 1)\n",
    "    for j in range(16):\n",
    "        p_box_outputs.append(p_box_inputs[(P_box[j+1])-1])\n",
    "    p_box_output=0\n",
    "    for p_box_out in p_box_outputs:\n",
    "        p_box_output=p_box_output<<1\n",
    "        p_box_output=p_box_output ^ p_box_out\n",
    "    return  p_box_output"
   ]
  },
  {
   "cell_type": "code",
   "execution_count": 391,
   "metadata": {},
   "outputs": [],
   "source": [
    "#generate random plaintexts\n",
    "format(random.getrandbits(16),'#018b')\n",
    "plaintexts=[]\n",
    "for i in range(2000):\n",
    "    plaintexts.append(random.getrandbits(16))\n",
    "#for text in plaintexts:\n",
    "    #print(format(text,'#018b'))"
   ]
  },
  {
   "cell_type": "code",
   "execution_count": 381,
   "metadata": {},
   "outputs": [
    {
     "name": "stdout",
     "output_type": "stream",
     "text": [
      "0b0110001101111110\n",
      "0b0011011111101100\n",
      "0b0111111011001001\n",
      "0b1110110010010011\n",
      "0b1100100100110111\n"
     ]
    }
   ],
   "source": [
    "#generate random key\n",
    "sub_keys=[]\n",
    "master_key=random.getrandbits(32)\n",
    "for i in range (5):\n",
    "    sub_key=(master_key>>4*(4-i)) & 65535\n",
    "    sub_keys.append(sub_key)\n",
    "for sub_key in sub_keys:\n",
    "    print(format(sub_key,'#018b'))"
   ]
  },
  {
   "cell_type": "code",
   "execution_count": 382,
   "metadata": {},
   "outputs": [],
   "source": [
    "#divide plaintext in to sub-blocks\n",
    "all_sub_blocks=[]\n",
    "for plaintext in plaintexts:\n",
    "    sub_blocks=[]\n",
    "    for i in range(4):\n",
    "        sub_block=(plaintext>>4*(3-i)) & 15\n",
    "        sub_blocks.append(sub_block)\n",
    "    all_sub_blocks.append(sub_blocks)"
   ]
  },
  {
   "cell_type": "code",
   "execution_count": 383,
   "metadata": {},
   "outputs": [],
   "source": [
    "#encryption \n",
    "def encryption(plaintext,key):\n",
    "    keys=[]\n",
    "    for i in range (5):\n",
    "        sub_key=(master_key>>4*(4-i)) & 65535\n",
    "        keys.append(sub_key)\n",
    "    for i in range(3):\n",
    "        s_box_input=plaintext ^ keys[i]\n",
    "        s_box_output=s_box(s_box_input)\n",
    "        p_box_output=p_box(s_box_output)\n",
    "        plaintext=p_box_output\n",
    "    s_box_input=plaintext ^ keys[3]\n",
    "    s_box_output=s_box(s_box_input)\n",
    "    ciphertext=s_box_output ^ keys[4]\n",
    "    return ciphertext"
   ]
  },
  {
   "cell_type": "code",
   "execution_count": 384,
   "metadata": {},
   "outputs": [],
   "source": [
    "key_list=[0,1,2,3,4,5,6,7,8,9,10,11,12,13,14,15]\n",
    "x_new_list=[]\n",
    "for k in range(16):\n",
    "    k_list=[]\n",
    "    for i in range(16):\n",
    "        for j in range(16):\n",
    "            if(i ^ j==k):\n",
    "                k_list.append((i,j))\n",
    "    x_new_list.append(k_list)\n",
    "x_xor_dictionary = dict(zip(key_list, x_new_list))"
   ]
  },
  {
   "cell_type": "code",
   "execution_count": 385,
   "metadata": {},
   "outputs": [],
   "source": [
    "def s_box_operation(x):\n",
    "    result=S_box[x[0]] ^ S_box[x[1]]\n",
    "    return result"
   ]
  },
  {
   "cell_type": "code",
   "execution_count": 386,
   "metadata": {},
   "outputs": [
    {
     "name": "stdout",
     "output_type": "stream",
     "text": [
      "[[16.  0.  0.  0.  0.  0.  0.  0.  0.  0.  0.  0.  0.  0.  0.  0.]\n",
      " [ 0.  0.  0.  2.  0.  0.  0.  2.  0.  2.  4.  0.  4.  2.  0.  0.]\n",
      " [ 0.  0.  0.  2.  0.  6.  2.  2.  0.  2.  0.  0.  0.  0.  2.  0.]\n",
      " [ 0.  0.  2.  0.  2.  0.  0.  0.  0.  4.  2.  0.  2.  0.  0.  4.]\n",
      " [ 0.  0.  0.  2.  0.  0.  6.  0.  0.  2.  0.  4.  2.  0.  0.  0.]\n",
      " [ 0.  4.  0.  0.  0.  2.  2.  0.  0.  0.  4.  0.  2.  0.  0.  2.]\n",
      " [ 0.  0.  0.  4.  0.  4.  0.  0.  0.  0.  0.  0.  2.  2.  2.  2.]\n",
      " [ 0.  0.  2.  2.  2.  0.  2.  0.  0.  2.  2.  0.  0.  0.  0.  4.]\n",
      " [ 0.  0.  0.  0.  0.  0.  2.  2.  0.  0.  0.  4.  0.  4.  2.  2.]\n",
      " [ 0.  2.  0.  0.  2.  0.  0.  4.  2.  0.  2.  2.  2.  0.  0.  0.]\n",
      " [ 0.  2.  2.  0.  0.  0.  0.  0.  6.  0.  0.  2.  0.  0.  4.  0.]\n",
      " [ 0.  0.  8.  0.  0.  2.  0.  2.  0.  0.  0.  0.  0.  2.  0.  2.]\n",
      " [ 0.  2.  0.  0.  2.  2.  2.  0.  0.  0.  0.  2.  0.  6.  0.  0.]\n",
      " [ 0.  4.  0.  0.  0.  0.  0.  4.  2.  0.  2.  0.  2.  0.  2.  0.]\n",
      " [ 0.  0.  2.  4.  2.  0.  0.  0.  6.  0.  0.  0.  0.  0.  2.  0.]\n",
      " [ 0.  2.  0.  0.  6.  0.  0.  0.  0.  4.  0.  2.  0.  0.  2.  0.]]\n"
     ]
    }
   ],
   "source": [
    "#Differential distrubiton table of S_box\n",
    "table=np.zeros(256).reshape(16,16)\n",
    "for key in x_xor_dictionary:\n",
    "    for pair in x_xor_dictionary[key]:\n",
    "        table[key][s_box_operation(pair)]+=1       \n",
    "print(table)"
   ]
  },
  {
   "cell_type": "code",
   "execution_count": 392,
   "metadata": {},
   "outputs": [
    {
     "name": "stdout",
     "output_type": "stream",
     "text": [
      "second block subkey of last round can be 0b00000100,fourth block subkey of last roundcan be 0b00000111\n"
     ]
    }
   ],
   "source": [
    "key_pairs_counter=np.zeros(256)\n",
    "for plaintext_1 in plaintexts:\n",
    "    ciphertext_1=encryption(plaintext_1,master_key)\n",
    "    for plaintext_2 in plaintexts:\n",
    "        ciphertext_2=encryption(plaintext_2,master_key)\n",
    "        delta_plain=plaintext_1 ^ plaintext_2\n",
    "        delta_cipher= ciphertext_1 ^ ciphertext_2\n",
    "        if(delta_plain==2816 and (delta_cipher>>4)&15==0 and (delta_cipher>>12)&15==0):\n",
    "            for key in range(256):\n",
    "                L_1=(key>>4) & 15\n",
    "                L_2=key & 15\n",
    "                v_42=L_1 ^ ((ciphertext_1>>8)&15)\n",
    "                v_44=L_2 ^ (ciphertext_1 &15)\n",
    "                u_42=S_box_inverse[v_42]\n",
    "                u_44=S_box_inverse[v_44]\n",
    "                _v_42=L_1 ^ ((ciphertext_2>>8)&15)\n",
    "                _v_44=L_2 ^ (ciphertext_2 &15)\n",
    "                _u_42=S_box_inverse[_v_42]\n",
    "                _u_44=S_box_inverse[_v_44]\n",
    "                U_42=u_42 ^ _u_42\n",
    "                U_44=u_44 ^ _u_44\n",
    "                if(U_42==6 and U_44==6):\n",
    "                    key_pairs_counter[key]+=1\n",
    "max_count=-1\n",
    "max_key=-1\n",
    "for key in range(256):\n",
    "    if(key_pairs_counter[key]>max_count):\n",
    "        max_count=key_pairs_counter[key]\n",
    "        max_key=key\n",
    "K_52=(max_key>>4) & 15\n",
    "K_54=max_key & 15\n",
    "print(\"second block subkey of last round can be %s,fourth block subkey of last roundcan be %s\"%(format(K_52,'#010b'),format(K_54,'#010b')))"
   ]
  }
 ],
 "metadata": {
  "kernelspec": {
   "display_name": "Python 3",
   "language": "python",
   "name": "python3"
  },
  "language_info": {
   "codemirror_mode": {
    "name": "ipython",
    "version": 3
   },
   "file_extension": ".py",
   "mimetype": "text/x-python",
   "name": "python",
   "nbconvert_exporter": "python",
   "pygments_lexer": "ipython3",
   "version": "3.8.5"
  }
 },
 "nbformat": 4,
 "nbformat_minor": 4
}
